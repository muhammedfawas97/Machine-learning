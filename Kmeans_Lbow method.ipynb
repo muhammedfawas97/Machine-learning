{
 "cells": [
  {
   "cell_type": "code",
   "execution_count": 9,
   "metadata": {},
   "outputs": [
    {
     "name": "stdout",
     "output_type": "stream",
     "text": [
      "[[1.06442435 0.70120512 0.58615761 0.74285832 0.52418596 1.28167231\n",
      "  1.32358962 1.0169852  1.44020616 1.28463017]\n",
      " [0.91379484 0.83653913 0.54661806 0.64029514 1.4493026  1.05215068\n",
      "  1.03695185 0.99614329 1.08027324 1.09670406]]\n",
      "(2, 10)\n",
      "2\n",
      "[[3.57438985 4.1103147  4.29661936 4.34713218 4.3261641  3.80255873\n",
      "  3.92163141 3.96204459 4.01112523 3.57337666]\n",
      " [4.16170966 4.30377487 3.97575642 3.93020031 3.90599621 3.64174551\n",
      "  4.0054189  3.83348289 3.51144786 4.37017922]]\n",
      "(2, 10)\n",
      "2\n"
     ]
    }
   ],
   "source": [
    "import numpy as np\n",
    "from sklearn.cluster import KMeans\n",
    "cluster1=np.random.uniform(0.5,1.5,(2,10))\n",
    "print(cluster1)\n",
    "print(cluster1.shape)\n",
    "print(cluster1.ndim)\n",
    "cluster2=np.random.uniform(3.5,4.5,(2,10))\n",
    "print(cluster2)\n",
    "print(cluster2.shape)\n",
    "print(cluster2.ndim)"
   ]
  },
  {
   "cell_type": "code",
   "execution_count": 12,
   "metadata": {},
   "outputs": [
    {
     "name": "stdout",
     "output_type": "stream",
     "text": [
      "[[1.06442435 0.91379484]\n",
      " [0.70120512 0.83653913]\n",
      " [0.58615761 0.54661806]\n",
      " [0.74285832 0.64029514]\n",
      " [0.52418596 1.4493026 ]\n",
      " [1.28167231 1.05215068]\n",
      " [1.32358962 1.03695185]\n",
      " [1.0169852  0.99614329]\n",
      " [1.44020616 1.08027324]\n",
      " [1.28463017 1.09670406]\n",
      " [3.57438985 4.16170966]\n",
      " [4.1103147  4.30377487]\n",
      " [4.29661936 3.97575642]\n",
      " [4.34713218 3.93020031]\n",
      " [4.3261641  3.90599621]\n",
      " [3.80255873 3.64174551]\n",
      " [3.92163141 4.0054189 ]\n",
      " [3.96204459 3.83348289]\n",
      " [4.01112523 3.51144786]\n",
      " [3.57337666 4.37017922]]\n",
      "(20, 2)\n"
     ]
    }
   ],
   "source": [
    "X1=np.hstack((cluster1,cluster2)).T\n",
    "print(X1)\n",
    "print(X1.shape)"
   ]
  },
  {
   "cell_type": "code",
   "execution_count": 15,
   "metadata": {},
   "outputs": [
    {
     "name": "stdout",
     "output_type": "stream",
     "text": [
      "[[1.06442435 0.91379484]\n",
      " [0.70120512 0.83653913]\n",
      " [0.58615761 0.54661806]\n",
      " [0.74285832 0.64029514]\n",
      " [0.52418596 1.4493026 ]\n",
      " [1.28167231 1.05215068]\n",
      " [1.32358962 1.03695185]\n",
      " [1.0169852  0.99614329]\n",
      " [1.44020616 1.08027324]\n",
      " [1.28463017 1.09670406]\n",
      " [1.06442435 0.91379484]\n",
      " [0.70120512 0.83653913]\n",
      " [0.58615761 0.54661806]\n",
      " [0.74285832 0.64029514]\n",
      " [0.52418596 1.4493026 ]\n",
      " [1.28167231 1.05215068]\n",
      " [1.32358962 1.03695185]\n",
      " [1.0169852  0.99614329]\n",
      " [1.44020616 1.08027324]\n",
      " [1.28463017 1.09670406]]\n",
      "(20, 2)\n"
     ]
    }
   ],
   "source": [
    "X2=np.hstack((cluster1,cluster1)).T\n",
    "print(X2)\n",
    "print(X2.shape)"
   ]
  },
  {
   "cell_type": "code",
   "execution_count": 18,
   "metadata": {},
   "outputs": [
    {
     "name": "stdout",
     "output_type": "stream",
     "text": [
      "[[1.06442435 0.91379484]\n",
      " [0.70120512 0.83653913]\n",
      " [0.58615761 0.54661806]\n",
      " [0.74285832 0.64029514]\n",
      " [0.52418596 1.4493026 ]\n",
      " [1.28167231 1.05215068]\n",
      " [1.32358962 1.03695185]\n",
      " [1.0169852  0.99614329]\n",
      " [1.44020616 1.08027324]\n",
      " [1.28463017 1.09670406]\n",
      " [3.57438985 4.16170966]\n",
      " [4.1103147  4.30377487]\n",
      " [4.29661936 3.97575642]\n",
      " [4.34713218 3.93020031]\n",
      " [4.3261641  3.90599621]\n",
      " [3.80255873 3.64174551]\n",
      " [3.92163141 4.0054189 ]\n",
      " [3.96204459 3.83348289]\n",
      " [4.01112523 3.51144786]\n",
      " [3.57337666 4.37017922]\n",
      " [1.06442435 0.91379484]\n",
      " [0.70120512 0.83653913]\n",
      " [0.58615761 0.54661806]\n",
      " [0.74285832 0.64029514]\n",
      " [0.52418596 1.4493026 ]\n",
      " [1.28167231 1.05215068]\n",
      " [1.32358962 1.03695185]\n",
      " [1.0169852  0.99614329]\n",
      " [1.44020616 1.08027324]\n",
      " [1.28463017 1.09670406]\n",
      " [1.06442435 0.91379484]\n",
      " [0.70120512 0.83653913]\n",
      " [0.58615761 0.54661806]\n",
      " [0.74285832 0.64029514]\n",
      " [0.52418596 1.4493026 ]\n",
      " [1.28167231 1.05215068]\n",
      " [1.32358962 1.03695185]\n",
      " [1.0169852  0.99614329]\n",
      " [1.44020616 1.08027324]\n",
      " [1.28463017 1.09670406]]\n",
      "(40, 2)\n"
     ]
    }
   ],
   "source": [
    "X=np.vstack((X1,X2))\n",
    "print(X)\n",
    "print(X.shape)"
   ]
  },
  {
   "cell_type": "code",
   "execution_count": 23,
   "metadata": {},
   "outputs": [
    {
     "name": "stdout",
     "output_type": "stream",
     "text": [
      "[1.6148021597126725, 0.3507329247689476, 0.2437749762301566, 0.1804883420198614, 0.1591305055611288, 0.13455141086072123, 0.09568805729405622, 0.08386383208213558, 0.06802655935249988]\n",
      "9\n"
     ]
    }
   ],
   "source": [
    "from scipy.spatial.distance import cdist\n",
    "import matplotlib.pyplot as plt\n",
    "K=range(1,10)\n",
    "mean_distortions=[]\n",
    "for k in K:\n",
    "    kmeans=KMeans(n_clusters=k)\n",
    "    kmeans.fit(X)\n",
    "    mean_distortions.append(sum(np.min(cdist(X,kmeans.cluster_centers_,'euclidean'),axis=1))/X.shape[0])\n",
    "print(mean_distortions)\n",
    "print(len(mean_distortions))"
   ]
  },
  {
   "cell_type": "code",
   "execution_count": 25,
   "metadata": {},
   "outputs": [
    {
     "data": {
      "image/png": "[encoded data removed]",
      "text/plain": [
       "<Figure size 432x288 with 1 Axes>"
      ]
     },
     "metadata": {
      "needs_background": "light"
     },
     "output_type": "display_data"
    }
   ],
   "source": [
    "plt.plot(K,mean_distortions,'bx-')\n",
    "plt.xlabel('k')\n",
    "plt.ylabel('Average distortions')\n",
    "plt.title('Selecting k with the Elbow Method')\n",
    "plt.show()"
   ]
  }
 ],
 "metadata": {
  "kernelspec": {
   "display_name": "Python 3",
   "language": "python",
   "name": "python3"
  },
  "language_info": {
   "codemirror_mode": {
    "name": "ipython",
    "version": 3
   },
   "file_extension": ".py",
   "mimetype": "text/x-python",
   "name": "python",
   "nbconvert_exporter": "python",
   "pygments_lexer": "ipython3",
   "version": "3.8.3"
  }
 },
 "nbformat": 4,
 "nbformat_minor": 4
}
