{
 "cells": [
  {
   "cell_type": "code",
   "execution_count": 2,
   "metadata": {},
   "outputs": [
    {
     "name": "stdout",
     "output_type": "stream",
     "text": [
      "Collecting mahotas\n",
      "  Downloading mahotas-1.4.11-cp38-cp38-win_amd64.whl (1.7 MB)\n",
      "Requirement already satisfied: numpy in c:\\users\\dell\\anaconda3\\lib\\site-packages (from mahotas) (1.18.5)\n",
      "Installing collected packages: mahotas\n",
      "Successfully installed mahotas-1.4.11\n",
      "Note: you may need to restart the kernel to use updated packages.\n"
     ]
    }
   ],
   "source": [
    "pip install mahotas\n"
   ]
  },
  {
   "cell_type": "code",
   "execution_count": 5,
   "metadata": {},
   "outputs": [
    {
     "name": "stdout",
     "output_type": "stream",
     "text": [
      "The first SURF descriptor:\n",
      " [ 8.97352022e+01  4.68953907e+01  1.88586790e+00  4.88957167e+02\n",
      " -1.00000000e+00 -1.88516951e+00 -4.83868336e-04 -8.52465628e-04\n",
      "  1.36170897e-03  1.36726073e-03 -1.43694491e-02 -8.84506037e-03\n",
      "  2.13131062e-02  1.74044370e-02 -5.24635883e-03 -1.65424954e-02\n",
      "  7.14702244e-03  1.77217446e-02  3.21817217e-04 -5.07313734e-04\n",
      "  5.54369689e-04  9.54233633e-04  1.40443525e-03  2.83023096e-03\n",
      "  8.31942881e-03  1.01556542e-02  1.24533429e-02 -2.01370831e-01\n",
      "  2.08715585e-01  2.43999712e-01 -4.20761116e-02 -7.08657665e-02\n",
      "  9.38916169e-02  1.03695158e-01  1.82388810e-02  4.70031570e-03\n",
      "  2.03157460e-02  1.24442280e-02  6.45587812e-03  2.30858758e-04\n",
      "  1.90777162e-02  1.44030233e-02  1.02658321e-01 -1.47164348e-01\n",
      "  2.26999587e-01  2.45811529e-01  2.52750681e-01 -1.08234287e-01\n",
      "  6.97495134e-01  3.05879820e-01 -2.07397022e-03  2.01290399e-03\n",
      "  1.07367730e-01  3.64275437e-02 -1.59298972e-03 -1.67331132e-03\n",
      "  2.99926775e-03  2.43641980e-03 -1.62365231e-02 -5.87668523e-03\n",
      "  4.98926617e-02  2.69246322e-02  7.35231081e-03 -6.05191213e-02\n",
      "  3.52717384e-02  7.23676473e-02 -2.00297996e-04  6.38493715e-04\n",
      "  5.36107773e-04  1.30036976e-03]\n",
      "Extracted 204 SURF descripteors\n"
     ]
    }
   ],
   "source": [
    "import mahotas as mh\n",
    "from mahotas.features import surf\n",
    "image=mh.imread('C:\\\\Users\\\\Dell\\\\Downloads\\\\zipper.jpeg',as_grey=True)\n",
    "print('The first SURF descriptor:\\n',surf.surf(image)[0])\n",
    "print('Extracted %s SURF descripteors'% len(surf.surf(image)))"
   ]
  }
 ],
 "metadata": {
  "kernelspec": {
   "display_name": "Python 3",
   "language": "python",
   "name": "python3"
  },
  "language_info": {
   "codemirror_mode": {
    "name": "ipython",
    "version": 3
   },
   "file_extension": ".py",
   "mimetype": "text/x-python",
   "name": "python",
   "nbconvert_exporter": "python",
   "pygments_lexer": "ipython3",
   "version": "3.8.3"
  }
 },
 "nbformat": 4,
 "nbformat_minor": 4
}
