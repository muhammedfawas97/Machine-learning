{
 "cells": [
  {
   "cell_type": "code",
   "execution_count": 1,
   "metadata": {},
   "outputs": [
    {
     "name": "stdout",
     "output_type": "stream",
     "text": [
      "     0   1\n",
      "0 -1.0   2\n",
      "1 -0.5   6\n",
      "2  0.0  10\n",
      "3  1.0  18\n",
      "       col1      col2\n",
      "0 -1.183216 -1.183216\n",
      "1 -0.507093 -0.507093\n",
      "2  0.169031  0.169031\n",
      "3  1.521278  1.521278\n"
     ]
    }
   ],
   "source": [
    "import pandas as pd\n",
    "from sklearn import preprocessing\n",
    "data=[[-1,2],[-0.5,6],[0,10],[1,18]]\n",
    "scalar=preprocessing.StandardScaler()\n",
    "scaled_values=pd.DataFrame(scalar.fit_transform(data),columns=['col1','col2'])\n",
    "print(pd.DataFrame(data))\n",
    "print(scaled_values)"
   ]
  },
  {
   "cell_type": "code",
   "execution_count": 2,
   "metadata": {},
   "outputs": [
    {
     "name": "stdout",
     "output_type": "stream",
     "text": [
      "     0   1\n",
      "0 -1.0   2\n",
      "1 -0.5   6\n",
      "2  0.0  10\n",
      "3  1.0  18\n",
      "       col1      col2\n",
      "0 -1.183216 -1.183216\n",
      "1 -0.507093 -0.507093\n",
      "2  0.169031  0.169031\n",
      "3  1.521278  1.521278\n"
     ]
    }
   ],
   "source": [
    "import pandas as pd\n",
    "from sklearn import preprocessing\n",
    "data=[[-1,2],[-0.5,6],[0,10],[1,18]]\n",
    "scaled_values=pd.DataFrame(preprocessing.scale(data),columns=['col1','col2'])\n",
    "print(pd.DataFrame(data))\n",
    "print(scaled_values)"
   ]
  },
  {
   "cell_type": "code",
   "execution_count": 4,
   "metadata": {},
   "outputs": [
    {
     "name": "stdout",
     "output_type": "stream",
     "text": [
      "[[ 0.50800051  0.39223227 -1.22474487  0.16222142 -0.94154292]\n",
      " [ 0.88900089  0.98058068  1.22474487 -1.29777137 -0.44307902]\n",
      " [-1.3970014  -1.37281295  0.          1.13554995  1.38462194]]\n"
     ]
    }
   ],
   "source": [
    "from sklearn import preprocessing\n",
    "import numpy as np\n",
    "X=np.array([[5,7,0,9,2],\n",
    "          [6,8,12,3,5],\n",
    "          [0,4,6,13,16]\n",
    "           ])\n",
    "print(preprocessing.scale(X))"
   ]
  }
 ],
 "metadata": {
  "kernelspec": {
   "display_name": "Python 3",
   "language": "python",
   "name": "python3"
  },
  "language_info": {
   "codemirror_mode": {
    "name": "ipython",
    "version": 3
   },
   "file_extension": ".py",
   "mimetype": "text/x-python",
   "name": "python",
   "nbconvert_exporter": "python",
   "pygments_lexer": "ipython3",
   "version": "3.8.3"
  }
 },
 "nbformat": 4,
 "nbformat_minor": 4
}
