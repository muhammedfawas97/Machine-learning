{
 "cells": [
  {
   "cell_type": "code",
   "execution_count": 4,
   "metadata": {},
   "outputs": [
    {
     "name": "stdout",
     "output_type": "stream",
     "text": [
      "[[0 1 1 0 1 0 1 0 0 1]\n",
      " [0 1 1 1 0 1 0 0 1 0]\n",
      " [1 0 0 0 0 0 0 1 0 0]]\n"
     ]
    }
   ],
   "source": [
    "from sklearn.feature_extraction.text import CountVectorizer\n",
    "vectoriser=CountVectorizer()\n",
    "corpus=['UNC played Duke in basketball',\n",
    "   'Duke lost the basketball game',\n",
    "   'I ate a sandwich']\n",
    "counts=vectoriser.fit_transform(corpus).todense()\n",
    "print(counts)"
   ]
  },
  {
   "cell_type": "code",
   "execution_count": 6,
   "metadata": {},
   "outputs": [
    {
     "name": "stdout",
     "output_type": "stream",
     "text": [
      "Distance b/w 1st and 2nd documents :  [[2.44948974]]\n",
      "Distance b/w 1st and 3rd documents :  [[2.64575131]]\n",
      "Distance b/w 2nd and 3rd documents :  [[2.64575131]]\n"
     ]
    }
   ],
   "source": [
    "from sklearn.metrics.pairwise import euclidean_distances\n",
    "print('Distance b/w 1st and 2nd documents : ',euclidean_distances(counts[0],counts[1]))\n",
    "print('Distance b/w 1st and 3rd documents : ',euclidean_distances(counts[0],counts[2]))\n",
    "print('Distance b/w 2nd and 3rd documents : ',euclidean_distances(counts[1],counts[2]))"
   ]
  }
 ],
 "metadata": {
  "kernelspec": {
   "display_name": "Python 3",
   "language": "python",
   "name": "python3"
  },
  "language_info": {
   "codemirror_mode": {
    "name": "ipython",
    "version": 3
   },
   "file_extension": ".py",
   "mimetype": "text/x-python",
   "name": "python",
   "nbconvert_exporter": "python",
   "pygments_lexer": "ipython3",
   "version": "3.8.3"
  }
 },
 "nbformat": 4,
 "nbformat_minor": 4
}
