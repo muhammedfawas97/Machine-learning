{
 "cells": [
  {
   "cell_type": "code",
   "execution_count": 1,
   "metadata": {},
   "outputs": [
    {
     "name": "stdout",
     "output_type": "stream",
     "text": [
      "Collecting package metadata (current_repodata.json): ...working... done\n",
      "Note: you may need to restart the kernel to use updated packages.\n",
      "Solving environment: ...working... done\n",
      "\n",
      "## Package Plan ##\n",
      "\n",
      "  environment location: C:\\Users\\Dell\\anaconda3\n",
      "\n",
      "  added / updated specs:\n",
      "    - nltk\n",
      "\n",
      "\n",
      "The following packages will be downloaded:\n",
      "\n",
      "    package                    |            build\n",
      "    ---------------------------|-----------------\n",
      "    ca-certificates-2020.6.24  |                0         165 KB  anaconda\n",
      "    certifi-2020.6.20          |           py38_0         160 KB  anaconda\n",
      "    conda-4.9.0                |           py38_0         3.1 MB  anaconda\n",
      "    nltk-3.5                   |             py_0         1.1 MB  anaconda\n",
      "    openssl-1.1.1g             |       he774522_0         5.8 MB  anaconda\n",
      "    ------------------------------------------------------------\n",
      "                                           Total:        10.2 MB\n",
      "\n",
      "The following packages will be UPDATED:\n",
      "\n",
      "  conda                       pkgs/main::conda-4.8.3-py38_0 --> anaconda::conda-4.9.0-py38_0\n",
      "\n",
      "The following packages will be SUPERSEDED by a higher-priority channel:\n",
      "\n",
      "  ca-certificates                                 pkgs/main --> anaconda\n",
      "  certifi                                         pkgs/main --> anaconda\n",
      "  nltk                                            pkgs/main --> anaconda\n",
      "  openssl                                         pkgs/main --> anaconda\n",
      "\n",
      "\n",
      "\n",
      "Downloading and Extracting Packages\n",
      "\n",
      "conda-4.9.0          | 3.1 MB    |            |   0% \n",
      "conda-4.9.0          | 3.1 MB    |            |   1% \n",
      "conda-4.9.0          | 3.1 MB    | 2          |   3% \n",
      "conda-4.9.0          | 3.1 MB    | 5          |   6% \n",
      "conda-4.9.0          | 3.1 MB    | 8          |   9% \n",
      "conda-4.9.0          | 3.1 MB    | #1         |  12% \n",
      "conda-4.9.0          | 3.1 MB    | #4         |  15% \n",
      "conda-4.9.0          | 3.1 MB    | #7         |  18% \n",
      "conda-4.9.0          | 3.1 MB    | ##         |  20% \n",
      "conda-4.9.0          | 3.1 MB    | ##4        |  25% \n",
      "conda-4.9.0          | 3.1 MB    | ##7        |  28% \n",
      "conda-4.9.0          | 3.1 MB    | ###7       |  38% \n",
      "conda-4.9.0          | 3.1 MB    | ####1      |  41% \n",
      "conda-4.9.0          | 3.1 MB    | ####5      |  45% \n",
      "conda-4.9.0          | 3.1 MB    | ####8      |  48% \n",
      "conda-4.9.0          | 3.1 MB    | #####1     |  51% \n",
      "conda-4.9.0          | 3.1 MB    | #####4     |  54% \n",
      "conda-4.9.0          | 3.1 MB    | #####9     |  59% \n",
      "conda-4.9.0          | 3.1 MB    | ######2    |  63% \n",
      "conda-4.9.0          | 3.1 MB    | ######6    |  66% \n",
      "conda-4.9.0          | 3.1 MB    | #######    |  71% \n",
      "conda-4.9.0          | 3.1 MB    | #######5   |  75% \n",
      "conda-4.9.0          | 3.1 MB    | #######8   |  79% \n",
      "conda-4.9.0          | 3.1 MB    | ########2  |  83% \n",
      "conda-4.9.0          | 3.1 MB    | ########5  |  86% \n",
      "conda-4.9.0          | 3.1 MB    | #########  |  91% \n",
      "conda-4.9.0          | 3.1 MB    | #########3 |  94% \n",
      "conda-4.9.0          | 3.1 MB    | #########6 |  96% \n",
      "conda-4.9.0          | 3.1 MB    | #########8 |  99% \n",
      "\n",
      "conda-4.9.0          | 3.1 MB    | ########## | 100% \n",
      "\n",
      "ca-certificates-2020 | 165 KB    |            |   0% \n",
      "ca-certificates-2020 | 165 KB    | 9          |  10% \n",
      "ca-certificates-2020 | 165 KB    | ########## | 100% \n",
      "\n",
      "nltk-3.5             | 1.1 MB    |            |   0% \n",
      "nltk-3.5             | 1.1 MB    | 1          |   1% \n",
      "nltk-3.5             | 1.1 MB    | 7          |   7% \n",
      "nltk-3.5             | 1.1 MB    | #7         |  18% \n",
      "nltk-3.5             | 1.1 MB    | ##3        |  24% \n",
      "nltk-3.5             | 1.1 MB    | ##8        |  28% \n",
      "nltk-3.5             | 1.1 MB    | ###5       |  36% \n",
      "nltk-3.5             | 1.1 MB    | ####1      |  42% \n",
      "nltk-3.5             | 1.1 MB    | ####5      |  46% \n",
      "nltk-3.5             | 1.1 MB    | #####      |  50% "
     ]
    },
    {
     "name": "stderr",
     "output_type": "stream",
     "text": [
      "\n",
      "\n",
      "==> WARNING: A newer version of conda exists. <==\n",
      "  current version: 4.8.3\n",
      "  latest version: 4.9.2\n",
      "\n",
      "Please update conda by running\n",
      "\n",
      "    $ conda update -n base -c defaults conda\n",
      "\n",
      "\n"
     ]
    },
    {
     "name": "stdout",
     "output_type": "stream",
     "text": [
      "\n",
      "nltk-3.5             | 1.1 MB    | #####7     |  58% \n",
      "nltk-3.5             | 1.1 MB    | ######5    |  65% \n",
      "nltk-3.5             | 1.1 MB    | #######1   |  71% \n",
      "nltk-3.5             | 1.1 MB    | #######5   |  76% \n",
      "nltk-3.5             | 1.1 MB    | ########3  |  83% \n",
      "nltk-3.5             | 1.1 MB    | #########  |  91% \n",
      "nltk-3.5             | 1.1 MB    | #########9 |  99% \n",
      "nltk-3.5             | 1.1 MB    | ########## | 100% \n",
      "\n",
      "certifi-2020.6.20    | 160 KB    |            |   0% \n",
      "certifi-2020.6.20    | 160 KB    | #          |  10% \n",
      "certifi-2020.6.20    | 160 KB    | #######    |  70% \n",
      "certifi-2020.6.20    | 160 KB    | ########## | 100% \n",
      "\n",
      "openssl-1.1.1g       | 5.8 MB    |            |   0% \n",
      "openssl-1.1.1g       | 5.8 MB    |            |   0% \n",
      "openssl-1.1.1g       | 5.8 MB    | 1          |   2% \n",
      "openssl-1.1.1g       | 5.8 MB    | 3          |   3% \n",
      "openssl-1.1.1g       | 5.8 MB    | 4          |   4% \n",
      "openssl-1.1.1g       | 5.8 MB    | 5          |   5% \n",
      "openssl-1.1.1g       | 5.8 MB    | 7          |   8% \n",
      "openssl-1.1.1g       | 5.8 MB    | 9          |  10% \n",
      "openssl-1.1.1g       | 5.8 MB    | #          |  10% \n",
      "openssl-1.1.1g       | 5.8 MB    | #2         |  12% \n",
      "openssl-1.1.1g       | 5.8 MB    | #4         |  14% \n",
      "openssl-1.1.1g       | 5.8 MB    | #5         |  16% \n",
      "openssl-1.1.1g       | 5.8 MB    | ##         |  21% \n",
      "openssl-1.1.1g       | 5.8 MB    | ##3        |  23% \n",
      "openssl-1.1.1g       | 5.8 MB    | ##4        |  25% \n",
      "openssl-1.1.1g       | 5.8 MB    | ##6        |  26% \n",
      "openssl-1.1.1g       | 5.8 MB    | ##7        |  28% \n",
      "openssl-1.1.1g       | 5.8 MB    | ##8        |  29% \n",
      "openssl-1.1.1g       | 5.8 MB    | ##9        |  30% \n",
      "openssl-1.1.1g       | 5.8 MB    | ###1       |  32% \n",
      "openssl-1.1.1g       | 5.8 MB    | ###2       |  33% \n",
      "openssl-1.1.1g       | 5.8 MB    | ###3       |  34% \n",
      "openssl-1.1.1g       | 5.8 MB    | ###6       |  36% \n",
      "openssl-1.1.1g       | 5.8 MB    | ###7       |  37% \n",
      "openssl-1.1.1g       | 5.8 MB    | ###9       |  39% \n",
      "openssl-1.1.1g       | 5.8 MB    | ####1      |  42% \n",
      "openssl-1.1.1g       | 5.8 MB    | ####3      |  43% \n",
      "openssl-1.1.1g       | 5.8 MB    | ####5      |  46% \n",
      "openssl-1.1.1g       | 5.8 MB    | ####7      |  48% \n",
      "openssl-1.1.1g       | 5.8 MB    | ####9      |  50% \n",
      "openssl-1.1.1g       | 5.8 MB    | #####1     |  52% \n",
      "openssl-1.1.1g       | 5.8 MB    | #####3     |  53% \n",
      "openssl-1.1.1g       | 5.8 MB    | #####4     |  55% \n",
      "openssl-1.1.1g       | 5.8 MB    | #####7     |  58% \n",
      "openssl-1.1.1g       | 5.8 MB    | #####9     |  59% \n",
      "openssl-1.1.1g       | 5.8 MB    | ######1    |  61% \n",
      "openssl-1.1.1g       | 5.8 MB    | ######3    |  64% \n",
      "openssl-1.1.1g       | 5.8 MB    | ######5    |  66% \n",
      "openssl-1.1.1g       | 5.8 MB    | ######8    |  68% \n",
      "openssl-1.1.1g       | 5.8 MB    | #######    |  71% \n",
      "openssl-1.1.1g       | 5.8 MB    | #######2   |  73% \n",
      "openssl-1.1.1g       | 5.8 MB    | #######4   |  75% \n",
      "openssl-1.1.1g       | 5.8 MB    | #######7   |  77% \n",
      "openssl-1.1.1g       | 5.8 MB    | #######9   |  80% \n",
      "openssl-1.1.1g       | 5.8 MB    | ########1  |  81% \n",
      "openssl-1.1.1g       | 5.8 MB    | ########4  |  84% \n",
      "openssl-1.1.1g       | 5.8 MB    | ########5  |  86% \n",
      "openssl-1.1.1g       | 5.8 MB    | ########7  |  87% \n",
      "openssl-1.1.1g       | 5.8 MB    | ########8  |  89% \n",
      "openssl-1.1.1g       | 5.8 MB    | ########9  |  90% \n",
      "openssl-1.1.1g       | 5.8 MB    | #########  |  91% \n",
      "openssl-1.1.1g       | 5.8 MB    | #########2 |  93% \n",
      "openssl-1.1.1g       | 5.8 MB    | #########4 |  94% \n",
      "openssl-1.1.1g       | 5.8 MB    | #########5 |  96% \n",
      "openssl-1.1.1g       | 5.8 MB    | #########7 |  98% \n",
      "openssl-1.1.1g       | 5.8 MB    | #########9 |  99% \n",
      "openssl-1.1.1g       | 5.8 MB    | ########## | 100% \n",
      "Preparing transaction: ...working... done\n",
      "Verifying transaction: ...working... done\n",
      "Executing transaction: ...working... done\n"
     ]
    }
   ],
   "source": [
    "conda install -c anaconda nltk \n"
   ]
  },
  {
   "cell_type": "code",
   "execution_count": 4,
   "metadata": {},
   "outputs": [
    {
     "name": "stderr",
     "output_type": "stream",
     "text": [
      "[nltk_data] Downloading package punkt to\n",
      "[nltk_data]     C:\\Users\\Dell\\AppData\\Roaming\\nltk_data...\n",
      "[nltk_data]   Unzipping tokenizers\\punkt.zip.\n"
     ]
    },
    {
     "data": {
      "text/plain": [
       "True"
      ]
     },
     "execution_count": 4,
     "metadata": {},
     "output_type": "execute_result"
    }
   ],
   "source": [
    "import nltk\n",
    "nltk.download('punkt')"
   ]
  },
  {
   "cell_type": "code",
   "execution_count": 6,
   "metadata": {},
   "outputs": [
    {
     "name": "stdout",
     "output_type": "stream",
     "text": [
      "word tokens :\n",
      " ['Hello', 'Mr.', 'Smith', ',', 'how', 'are', 'you', 'doing', 'today', '?', 'The', 'weather', 'is', 'great', ',', 'and', 'Python', 'is', 'awesome', '.', 'The', 'sky', 'is', 'pinkish-blue', '.', 'You', 'should', \"n't\", 'eat', 'cardboard', '.']\n"
     ]
    }
   ],
   "source": [
    "from nltk import word_tokenize,sent_tokenize\n",
    "corpus = \"Hello Mr. Smith, how are you doing today? The weather is great,  and Python is awesome. The sky is pinkish-blue. You shouldn't eat cardboard.\"\n",
    "print('word tokens :\\n',word_tokenize(corpus))"
   ]
  },
  {
   "cell_type": "code",
   "execution_count": 8,
   "metadata": {},
   "outputs": [
    {
     "name": "stdout",
     "output_type": "stream",
     "text": [
      "Sendence Tokens: \n",
      " ['Hello Mr. Smith, how are you doing today?', 'The weather is great,  and Python is awesome.', 'The sky is pinkish-blue.', \"You shouldn't eat cardboard.\"]\n"
     ]
    }
   ],
   "source": [
    "print('Sendence Tokens: \\n',sent_tokenize(corpus))"
   ]
  }
 ],
 "metadata": {
  "kernelspec": {
   "display_name": "Python 3",
   "language": "python",
   "name": "python3"
  },
  "language_info": {
   "codemirror_mode": {
    "name": "ipython",
    "version": 3
   },
   "file_extension": ".py",
   "mimetype": "text/x-python",
   "name": "python",
   "nbconvert_exporter": "python",
   "pygments_lexer": "ipython3",
   "version": "3.8.3"
  }
 },
 "nbformat": 4,
 "nbformat_minor": 4
}
