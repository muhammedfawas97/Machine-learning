{
 "cells": [
  {
   "cell_type": "code",
   "execution_count": 19,
   "metadata": {},
   "outputs": [
    {
     "name": "stdout",
     "output_type": "stream",
     "text": [
      "[['I', 'am', 'gather', 'ingredi', 'for', 'the', 'sandwhich'], ['there', 'are', 'mani', 'wizard', 'at', 'the', 'gather', '.']]\n"
     ]
    }
   ],
   "source": [
    "corpus=[\n",
    "  'I am gathering ingredients for the sandwhich',\n",
    "  'There are many wizards at the gathering.'\n",
    " ]\n",
    "from nltk import word_tokenize\n",
    "from nltk.stem import PorterStemmer\n",
    "from nltk.stem.wordnet import WordNetLemmatizer\n",
    "from nltk import pos_tag\n",
    "\n",
    "stemmer=PorterStemmer()\n",
    "m=[]\n",
    "for document in corpus:\n",
    "    l=[]\n",
    "    for token in word_tokenize(document):\n",
    "        #print(token)\n",
    "        #print(stemmer.stem(token))\n",
    "        l.append(stemmer.stem(token))\n",
    "    m.append(l)    \n",
    "print(m)        "
   ]
  },
  {
   "cell_type": "code",
   "execution_count": 15,
   "metadata": {},
   "outputs": [
    {
     "data": {
      "text/plain": [
       "[['I', 'am', 'gather', 'ingredi', 'for', 'the', 'sandwhich'],\n",
       " ['there', 'are', 'mani', 'wizard', 'at', 'the', 'gather', '.']]"
      ]
     },
     "execution_count": 15,
     "metadata": {},
     "output_type": "execute_result"
    }
   ],
   "source": [
    "stemmed= [[stemmer.stem(token) for token in word_tokenize(document)] for document in corpus]\n",
    "stemmed"
   ]
  },
  {
   "cell_type": "code",
   "execution_count": 24,
   "metadata": {},
   "outputs": [
    {
     "name": "stderr",
     "output_type": "stream",
     "text": [
      "[nltk_data] Downloading package averaged_perceptron_tagger to\n",
      "[nltk_data]     C:\\Users\\Dell\\AppData\\Roaming\\nltk_data...\n",
      "[nltk_data]   Unzipping taggers\\averaged_perceptron_tagger.zip.\n"
     ]
    },
    {
     "data": {
      "text/plain": [
       "True"
      ]
     },
     "execution_count": 24,
     "metadata": {},
     "output_type": "execute_result"
    }
   ],
   "source": [
    "import nltk\n",
    "nltk.download('averaged_perceptron_tagger')\n"
   ]
  },
  {
   "cell_type": "code",
   "execution_count": 26,
   "metadata": {},
   "outputs": [
    {
     "name": "stdout",
     "output_type": "stream",
     "text": [
      "[[('I', 'PRP'), ('am', 'VBP'), ('gathering', 'VBG'), ('ingredients', 'NNS'), ('for', 'IN'), ('the', 'DT'), ('sandwhich', 'NN')], [('There', 'EX'), ('are', 'VBP'), ('many', 'JJ'), ('wizards', 'NNS'), ('at', 'IN'), ('the', 'DT'), ('gathering', 'NN'), ('.', '.')]]\n"
     ]
    }
   ],
   "source": [
    "tagged_corpus=[pos_tag(word_tokenize(document)) for document in corpus]\n",
    "print(tagged_corpus)"
   ]
  },
  {
   "cell_type": "code",
   "execution_count": 40,
   "metadata": {},
   "outputs": [
    {
     "name": "stdout",
     "output_type": "stream",
     "text": [
      "[[None, 'be', 'gather', 'ingredient', None, None, 'sandwhich'], [None, 'be', None, 'wizard', None, None, 'gathering', None]]\n"
     ]
    }
   ],
   "source": [
    "def lemmatize(token,tag):\n",
    "    lemmatizer=WordNetLemmatizer()\n",
    "    if tag[0].lower() in ['n','v']:\n",
    "        return lemmatizer.lemmatize(token,tag[0].lower())\n",
    "A=[]\n",
    "for document in tagged_corpus:\n",
    "    #print(document)\n",
    "    k=[]\n",
    "    for tokens,tag in document:      \n",
    "        #print(tokens)\n",
    "        #print(tag)        \n",
    "        k.append(lemmatize(tokens,tag))\n",
    "    A.append(k)\n",
    "print(A)\n",
    "    "
   ]
  },
  {
   "cell_type": "code",
   "execution_count": 46,
   "metadata": {},
   "outputs": [
    {
     "name": "stdout",
     "output_type": "stream",
     "text": [
      "[[None, 'be', 'gather', 'ingredient', None, None, 'sandwhich'], [None, 'be', None, 'wizard', None, None, 'gathering', None]]\n"
     ]
    }
   ],
   "source": [
    "h=[[lemmatize(token,tag) for token,tag in document]for document in tagged_corpus]\n",
    "print(h)                          "
   ]
  }
 ],
 "metadata": {
  "kernelspec": {
   "display_name": "Python 3",
   "language": "python",
   "name": "python3"
  },
  "language_info": {
   "codemirror_mode": {
    "name": "ipython",
    "version": 3
   },
   "file_extension": ".py",
   "mimetype": "text/x-python",
   "name": "python",
   "nbconvert_exporter": "python",
   "pygments_lexer": "ipython3",
   "version": "3.8.3"
  }
 },
 "nbformat": 4,
 "nbformat_minor": 4
}
