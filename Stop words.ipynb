{
 "cells": [
  {
   "cell_type": "code",
   "execution_count": 6,
   "metadata": {},
   "outputs": [
    {
     "name": "stderr",
     "output_type": "stream",
     "text": [
      "[nltk_data] Downloading package stopwords to\n",
      "[nltk_data]     C:\\Users\\Dell\\AppData\\Roaming\\nltk_data...\n",
      "[nltk_data]   Unzipping corpora\\stopwords.zip.\n"
     ]
    },
    {
     "data": {
      "text/plain": [
       "True"
      ]
     },
     "execution_count": 6,
     "metadata": {},
     "output_type": "execute_result"
    }
   ],
   "source": [
    "import nltk\n",
    "nltk.download('stopwords')"
   ]
  },
  {
   "cell_type": "code",
   "execution_count": 8,
   "metadata": {},
   "outputs": [
    {
     "name": "stdout",
     "output_type": "stream",
     "text": [
      "{'which', 'weren', 'himself', 'into', 'what', 'there', \"you'd\", 'been', 'not', 'very', 'this', 'because', 'needn', 'ain', 'from', 'your', \"you're\", 'who', \"wouldn't\", \"haven't\", 'few', 'do', 'of', 'their', 'had', 'themselves', 'about', 't', 'between', 'whom', 'before', 'be', \"weren't\", \"won't\", 'just', 'while', \"that'll\", 'than', 'it', 'was', 've', 'then', 'off', 'm', 'these', 'were', 'down', \"aren't\", 'ma', 'after', 'me', 'myself', \"hasn't\", 'other', 'mustn', 'against', 'if', 'did', 'through', \"you've\", 'she', 'ourselves', \"it's\", 'the', 'wasn', 'where', 'itself', 'on', 's', 'and', 'hasn', 'yourselves', 'will', 'herself', 'o', 'a', 'so', 'ours', 'all', \"hadn't\", 'but', 'have', 'isn', 'below', 'haven', 'during', 'now', \"don't\", 'our', 'nor', 'didn', \"mightn't\", 'an', 'he', 'them', 'own', 'its', 'for', 'hadn', 'being', 'mightn', 'over', 'hers', 'until', \"didn't\", 'under', 'in', \"doesn't\", 'here', 'shan', \"shouldn't\", 'each', 'shouldn', 'won', 'more', 'only', 'that', 'further', 'when', 'to', 'such', \"mustn't\", 'y', 'll', 'at', 'up', 'my', \"should've\", 'am', \"isn't\", 'we', 'd', 'or', 're', 'wouldn', 'no', 'his', 'doing', 'by', 'having', \"needn't\", \"you'll\", 'any', 'yours', 'couldn', 'too', 'can', 'has', 'they', 'why', \"couldn't\", 'how', \"shan't\", 'don', 'does', 'is', 'are', \"she's\", \"wasn't\", 'out', 'most', 'her', 'once', 'i', 'again', 'those', 'doesn', 'aren', 'him', 'above', 'yourself', 'theirs', 'as', 'you', 'should', 'both', 'some', 'same', 'with'}\n"
     ]
    }
   ],
   "source": [
    "from nltk.corpus import stopwords\n",
    "stop_words=set(stopwords.words('english'))\n",
    "print(stop_words)"
   ]
  },
  {
   "cell_type": "code",
   "execution_count": 10,
   "metadata": {},
   "outputs": [
    {
     "name": "stdout",
     "output_type": "stream",
     "text": [
      "[[0 1 1 0 0 1 0 1]\n",
      " [0 1 1 1 1 0 0 0]\n",
      " [1 0 0 0 0 0 1 0]]\n"
     ]
    }
   ],
   "source": [
    "from sklearn.feature_extraction.text import CountVectorizer\n",
    "corpus=['UNC played Duke in basketball',\n",
    "   'Duke lost the basketball game',\n",
    "       'I ate a sandwich']\n",
    "vectoriser=CountVectorizer(stop_words='english')\n",
    "print(vectoriser.fit_transform(corpus).todense())"
   ]
  }
 ],
 "metadata": {
  "kernelspec": {
   "display_name": "Python 3",
   "language": "python",
   "name": "python3"
  },
  "language_info": {
   "codemirror_mode": {
    "name": "ipython",
    "version": 3
   },
   "file_extension": ".py",
   "mimetype": "text/x-python",
   "name": "python",
   "nbconvert_exporter": "python",
   "pygments_lexer": "ipython3",
   "version": "3.8.3"
  }
 },
 "nbformat": 4,
 "nbformat_minor": 4
}
