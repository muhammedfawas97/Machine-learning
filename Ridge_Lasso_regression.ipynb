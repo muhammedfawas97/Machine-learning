{
 "cells": [
  {
   "cell_type": "code",
   "execution_count": 1,
   "metadata": {},
   "outputs": [
    {
     "name": "stdout",
     "output_type": "stream",
     "text": [
      "Populating the interactive namespace from numpy and matplotlib\n"
     ]
    }
   ],
   "source": [
    "%pylab inline\n",
    "import pandas as pd\n",
    "\n",
    "import matplotlib.pyplot as plt\n"
   ]
  },
  {
   "cell_type": "code",
   "execution_count": 2,
   "metadata": {},
   "outputs": [],
   "source": [
    "mammals=pd.read_csv(\"C:\\\\Users\\\\Dell\\\\Downloads\\\\sleep.csv\",sep='\\t')"
   ]
  },
  {
   "cell_type": "code",
   "execution_count": 3,
   "metadata": {},
   "outputs": [
    {
     "name": "stdout",
     "output_type": "stream",
     "text": [
      "                   Species    BodyWt  BrainWt  NonDreaming  Dreaming  \\\n",
      "0          Africanelephant  6654.000   5712.0          NaN       NaN   \n",
      "1   Africangiantpouchedrat     1.000      6.6          6.3       2.0   \n",
      "2                ArcticFox     3.385     44.5          NaN       NaN   \n",
      "3     Arcticgroundsquirrel     0.920      5.7          NaN       NaN   \n",
      "4            Asianelephant  2547.000   4603.0          2.1       1.8   \n",
      "..                     ...       ...      ...          ...       ...   \n",
      "57               Treehyrax     2.000     12.3          4.9       0.5   \n",
      "58               Treeshrew     0.104      2.5         13.2       2.6   \n",
      "59                  Vervet     4.190     58.0          9.7       0.6   \n",
      "60            Wateropossum     3.500      3.9         12.8       6.6   \n",
      "61    Yellow-belliedmarmot     4.050     17.0          NaN       NaN   \n",
      "\n",
      "    TotalSleep  LifeSpan  Gestation  Predation  Exposure  Danger  \n",
      "0          3.3      38.6      645.0          3         5       3  \n",
      "1          8.3       4.5       42.0          3         1       3  \n",
      "2         12.5      14.0       60.0          1         1       1  \n",
      "3         16.5       NaN       25.0          5         2       3  \n",
      "4          3.9      69.0      624.0          3         5       4  \n",
      "..         ...       ...        ...        ...       ...     ...  \n",
      "57         5.4       7.5      200.0          3         1       3  \n",
      "58        15.8       2.3       46.0          3         2       2  \n",
      "59        10.3      24.0      210.0          4         3       4  \n",
      "60        19.4       3.0       14.0          2         1       1  \n",
      "61         NaN      13.0       38.0          3         1       1  \n",
      "\n",
      "[62 rows x 11 columns]\n"
     ]
    }
   ],
   "source": [
    "print(mammals)"
   ]
  },
  {
   "cell_type": "code",
   "execution_count": 4,
   "metadata": {},
   "outputs": [
    {
     "name": "stdout",
     "output_type": "stream",
     "text": [
      "0     6654.000\n",
      "1        1.000\n",
      "2        3.385\n",
      "3        0.920\n",
      "4     2547.000\n",
      "        ...   \n",
      "57       2.000\n",
      "58       0.104\n",
      "59       4.190\n",
      "60       3.500\n",
      "61       4.050\n",
      "Name: BodyWt, Length: 62, dtype: float64\n",
      "0     6654.000\n",
      "1        1.000\n",
      "2        3.385\n",
      "3        0.920\n",
      "4     2547.000\n",
      "        ...   \n",
      "57       2.000\n",
      "58       0.104\n",
      "59       4.190\n",
      "60       3.500\n",
      "61       4.050\n",
      "Name: BodyWt, Length: 62, dtype: float64\n"
     ]
    }
   ],
   "source": [
    "print(mammals.BodyWt)\n",
    "print(mammals['BodyWt'])"
   ]
  },
  {
   "cell_type": "code",
   "execution_count": 5,
   "metadata": {},
   "outputs": [],
   "source": [
    "mammals['BodyWt_cubed']=mammals['BodyWt']**3\n",
    "mammals['BodyWt_square']=mammals['BodyWt']**2"
   ]
  },
  {
   "cell_type": "code",
   "execution_count": 6,
   "metadata": {},
   "outputs": [
    {
     "name": "stdout",
     "output_type": "stream",
     "text": [
      "Index(['Species', 'BodyWt', 'BrainWt', 'NonDreaming', 'Dreaming', 'TotalSleep',\n",
      "       'LifeSpan', 'Gestation', 'Predation', 'Exposure', 'Danger',\n",
      "       'BodyWt_cubed', 'BodyWt_square'],\n",
      "      dtype='object')\n"
     ]
    }
   ],
   "source": [
    "print(mammals.columns)"
   ]
  },
  {
   "cell_type": "code",
   "execution_count": 7,
   "metadata": {},
   "outputs": [
    {
     "data": {
      "text/html": [
       "<div>\n",
       "<style scoped>\n",
       "    .dataframe tbody tr th:only-of-type {\n",
       "        vertical-align: middle;\n",
       "    }\n",
       "\n",
       "    .dataframe tbody tr th {\n",
       "        vertical-align: top;\n",
       "    }\n",
       "\n",
       "    .dataframe thead th {\n",
       "        text-align: right;\n",
       "    }\n",
       "</style>\n",
       "<table border=\"1\" class=\"dataframe\">\n",
       "  <thead>\n",
       "    <tr style=\"text-align: right;\">\n",
       "      <th></th>\n",
       "      <th>BodyWt</th>\n",
       "      <th>BodyWt_cubed</th>\n",
       "      <th>BodyWt_square</th>\n",
       "    </tr>\n",
       "  </thead>\n",
       "  <tbody>\n",
       "    <tr>\n",
       "      <th>0</th>\n",
       "      <td>6654.000</td>\n",
       "      <td>2.946106e+11</td>\n",
       "      <td>4.427572e+07</td>\n",
       "    </tr>\n",
       "    <tr>\n",
       "      <th>1</th>\n",
       "      <td>1.000</td>\n",
       "      <td>1.000000e+00</td>\n",
       "      <td>1.000000e+00</td>\n",
       "    </tr>\n",
       "    <tr>\n",
       "      <th>2</th>\n",
       "      <td>3.385</td>\n",
       "      <td>3.878609e+01</td>\n",
       "      <td>1.145822e+01</td>\n",
       "    </tr>\n",
       "    <tr>\n",
       "      <th>3</th>\n",
       "      <td>0.920</td>\n",
       "      <td>7.786880e-01</td>\n",
       "      <td>8.464000e-01</td>\n",
       "    </tr>\n",
       "    <tr>\n",
       "      <th>4</th>\n",
       "      <td>2547.000</td>\n",
       "      <td>1.652292e+10</td>\n",
       "      <td>6.487209e+06</td>\n",
       "    </tr>\n",
       "    <tr>\n",
       "      <th>...</th>\n",
       "      <td>...</td>\n",
       "      <td>...</td>\n",
       "      <td>...</td>\n",
       "    </tr>\n",
       "    <tr>\n",
       "      <th>57</th>\n",
       "      <td>2.000</td>\n",
       "      <td>8.000000e+00</td>\n",
       "      <td>4.000000e+00</td>\n",
       "    </tr>\n",
       "    <tr>\n",
       "      <th>58</th>\n",
       "      <td>0.104</td>\n",
       "      <td>1.124864e-03</td>\n",
       "      <td>1.081600e-02</td>\n",
       "    </tr>\n",
       "    <tr>\n",
       "      <th>59</th>\n",
       "      <td>4.190</td>\n",
       "      <td>7.356006e+01</td>\n",
       "      <td>1.755610e+01</td>\n",
       "    </tr>\n",
       "    <tr>\n",
       "      <th>60</th>\n",
       "      <td>3.500</td>\n",
       "      <td>4.287500e+01</td>\n",
       "      <td>1.225000e+01</td>\n",
       "    </tr>\n",
       "    <tr>\n",
       "      <th>61</th>\n",
       "      <td>4.050</td>\n",
       "      <td>6.643012e+01</td>\n",
       "      <td>1.640250e+01</td>\n",
       "    </tr>\n",
       "  </tbody>\n",
       "</table>\n",
       "<p>62 rows × 3 columns</p>\n",
       "</div>"
      ],
      "text/plain": [
       "      BodyWt  BodyWt_cubed  BodyWt_square\n",
       "0   6654.000  2.946106e+11   4.427572e+07\n",
       "1      1.000  1.000000e+00   1.000000e+00\n",
       "2      3.385  3.878609e+01   1.145822e+01\n",
       "3      0.920  7.786880e-01   8.464000e-01\n",
       "4   2547.000  1.652292e+10   6.487209e+06\n",
       "..       ...           ...            ...\n",
       "57     2.000  8.000000e+00   4.000000e+00\n",
       "58     0.104  1.124864e-03   1.081600e-02\n",
       "59     4.190  7.356006e+01   1.755610e+01\n",
       "60     3.500  4.287500e+01   1.225000e+01\n",
       "61     4.050  6.643012e+01   1.640250e+01\n",
       "\n",
       "[62 rows x 3 columns]"
      ]
     },
     "execution_count": 7,
     "metadata": {},
     "output_type": "execute_result"
    }
   ],
   "source": [
    "x=mammals[['BodyWt','BodyWt_cubed','BodyWt_square']]\n",
    "x"
   ]
  },
  {
   "cell_type": "code",
   "execution_count": 8,
   "metadata": {},
   "outputs": [
    {
     "data": {
      "text/html": [
       "<div>\n",
       "<style scoped>\n",
       "    .dataframe tbody tr th:only-of-type {\n",
       "        vertical-align: middle;\n",
       "    }\n",
       "\n",
       "    .dataframe tbody tr th {\n",
       "        vertical-align: top;\n",
       "    }\n",
       "\n",
       "    .dataframe thead th {\n",
       "        text-align: right;\n",
       "    }\n",
       "</style>\n",
       "<table border=\"1\" class=\"dataframe\">\n",
       "  <thead>\n",
       "    <tr style=\"text-align: right;\">\n",
       "      <th></th>\n",
       "      <th>BrainWt</th>\n",
       "    </tr>\n",
       "  </thead>\n",
       "  <tbody>\n",
       "    <tr>\n",
       "      <th>0</th>\n",
       "      <td>5712.0</td>\n",
       "    </tr>\n",
       "    <tr>\n",
       "      <th>1</th>\n",
       "      <td>6.6</td>\n",
       "    </tr>\n",
       "    <tr>\n",
       "      <th>2</th>\n",
       "      <td>44.5</td>\n",
       "    </tr>\n",
       "    <tr>\n",
       "      <th>3</th>\n",
       "      <td>5.7</td>\n",
       "    </tr>\n",
       "    <tr>\n",
       "      <th>4</th>\n",
       "      <td>4603.0</td>\n",
       "    </tr>\n",
       "    <tr>\n",
       "      <th>...</th>\n",
       "      <td>...</td>\n",
       "    </tr>\n",
       "    <tr>\n",
       "      <th>57</th>\n",
       "      <td>12.3</td>\n",
       "    </tr>\n",
       "    <tr>\n",
       "      <th>58</th>\n",
       "      <td>2.5</td>\n",
       "    </tr>\n",
       "    <tr>\n",
       "      <th>59</th>\n",
       "      <td>58.0</td>\n",
       "    </tr>\n",
       "    <tr>\n",
       "      <th>60</th>\n",
       "      <td>3.9</td>\n",
       "    </tr>\n",
       "    <tr>\n",
       "      <th>61</th>\n",
       "      <td>17.0</td>\n",
       "    </tr>\n",
       "  </tbody>\n",
       "</table>\n",
       "<p>62 rows × 1 columns</p>\n",
       "</div>"
      ],
      "text/plain": [
       "    BrainWt\n",
       "0    5712.0\n",
       "1       6.6\n",
       "2      44.5\n",
       "3       5.7\n",
       "4    4603.0\n",
       "..      ...\n",
       "57     12.3\n",
       "58      2.5\n",
       "59     58.0\n",
       "60      3.9\n",
       "61     17.0\n",
       "\n",
       "[62 rows x 1 columns]"
      ]
     },
     "execution_count": 8,
     "metadata": {},
     "output_type": "execute_result"
    }
   ],
   "source": [
    "y=mammals[['BrainWt']]\n",
    "y"
   ]
  },
  {
   "cell_type": "code",
   "execution_count": 9,
   "metadata": {},
   "outputs": [],
   "source": [
    "from sklearn.preprocessing import StandardScaler\n",
    "xscaled=StandardScaler().fit_transform(x)\n",
    "yscaled=StandardScaler().fit_transform(y)\n"
   ]
  },
  {
   "cell_type": "code",
   "execution_count": 24,
   "metadata": {},
   "outputs": [],
   "source": [
    "#print(xscaled)\n",
    "#print(yscaled)"
   ]
  },
  {
   "cell_type": "code",
   "execution_count": 11,
   "metadata": {},
   "outputs": [
    {
     "name": "stdout",
     "output_type": "stream",
     "text": [
      "(49, 3)\n",
      "(13, 3)\n"
     ]
    }
   ],
   "source": [
    "from sklearn.model_selection import train_test_split\n",
    "x_train,x_test,y_train,y_test=train_test_split(xscaled,yscaled,test_size=.2,random_state=42)\n",
    "print(x_train.shape)\n",
    "print(x_test.shape)\n"
   ]
  },
  {
   "cell_type": "code",
   "execution_count": 12,
   "metadata": {},
   "outputs": [],
   "source": [
    "from sklearn.model_selection import GridSearchCV\n",
    "from sklearn.linear_model import Ridge , Lasso\n",
    "\n",
    "lamda_range=linspace(0.001,0.2,25)\n",
    "#aprint(lamda_range)\n"
   ]
  },
  {
   "cell_type": "code",
   "execution_count": 13,
   "metadata": {},
   "outputs": [],
   "source": [
    "model1=Ridge(max_iter=10000)\n",
    "model2=Lasso(max_iter=10000)\n",
    "lamda_grid=[{'alpha':lamda_range}]"
   ]
  },
  {
   "cell_type": "code",
   "execution_count": 14,
   "metadata": {},
   "outputs": [
    {
     "data": {
      "text/plain": [
       "GridSearchCV(cv=KFold(n_splits=20, random_state=None, shuffle=False),\n",
       "             estimator=Ridge(max_iter=10000),\n",
       "             param_grid=[{'alpha': array([0.001     , 0.00929167, 0.01758333, 0.025875  , 0.03416667,\n",
       "       0.04245833, 0.05075   , 0.05904167, 0.06733333, 0.075625  ,\n",
       "       0.08391667, 0.09220833, 0.1005    , 0.10879167, 0.11708333,\n",
       "       0.125375  , 0.13366667, 0.14195833, 0.15025   , 0.15854167,\n",
       "       0.16683333, 0.175125  , 0.18341667, 0.19170833, 0.2       ])}])"
      ]
     },
     "execution_count": 14,
     "metadata": {},
     "output_type": "execute_result"
    }
   ],
   "source": [
    "from sklearn import model_selection\n",
    "CV_ridge=GridSearchCV(estimator=model1,param_grid=lamda_grid,cv=model_selection.KFold(n_splits=20))\n",
    "CV_ridge.fit(x_train,y_train)"
   ]
  },
  {
   "cell_type": "code",
   "execution_count": 15,
   "metadata": {},
   "outputs": [
    {
     "data": {
      "text/plain": [
       "GridSearchCV(cv=KFold(n_splits=20, random_state=None, shuffle=False),\n",
       "             estimator=Lasso(max_iter=10000),\n",
       "             param_grid=[{'alpha': array([0.001     , 0.00929167, 0.01758333, 0.025875  , 0.03416667,\n",
       "       0.04245833, 0.05075   , 0.05904167, 0.06733333, 0.075625  ,\n",
       "       0.08391667, 0.09220833, 0.1005    , 0.10879167, 0.11708333,\n",
       "       0.125375  , 0.13366667, 0.14195833, 0.15025   , 0.15854167,\n",
       "       0.16683333, 0.175125  , 0.18341667, 0.19170833, 0.2       ])}])"
      ]
     },
     "execution_count": 15,
     "metadata": {},
     "output_type": "execute_result"
    }
   ],
   "source": [
    "from sklearn import model_selection\n",
    "CV_lasso=GridSearchCV(estimator=model2,param_grid=lamda_grid,cv=model_selection.KFold(n_splits=20))\n",
    "CV_lasso.fit(x_train,y_train)"
   ]
  },
  {
   "cell_type": "code",
   "execution_count": 16,
   "metadata": {},
   "outputs": [
    {
     "name": "stdout",
     "output_type": "stream",
     "text": [
      "0.2\n",
      "0.009291666666666667\n"
     ]
    }
   ],
   "source": [
    "print(CV_ridge.best_params_['alpha'])\n",
    "print(CV_lasso.best_params_['alpha'])"
   ]
  },
  {
   "cell_type": "code",
   "execution_count": 17,
   "metadata": {},
   "outputs": [
    {
     "data": {
      "text/plain": [
       "Lasso(alpha=0.009291666666666667, max_iter=10000)"
      ]
     },
     "execution_count": 17,
     "metadata": {},
     "output_type": "execute_result"
    }
   ],
   "source": [
    "best_lamda_lasso=CV_lasso.best_params_['alpha']\n",
    "Brain_Lasso=Lasso(alpha=best_lamda_lasso,max_iter=10000)\n",
    "Brain_Lasso.fit(x_train,y_train)\n"
   ]
  },
  {
   "cell_type": "code",
   "execution_count": 18,
   "metadata": {},
   "outputs": [
    {
     "data": {
      "text/plain": [
       "Ridge(alpha=0.2, max_iter=10000)"
      ]
     },
     "execution_count": 18,
     "metadata": {},
     "output_type": "execute_result"
    }
   ],
   "source": [
    "best_lamda_ridge=CV_ridge.best_params_['alpha']\n",
    "Brain_ridge=Ridge(alpha=best_lamda_ridge,max_iter=10000)\n",
    "Brain_ridge.fit(x_train,y_train)"
   ]
  },
  {
   "cell_type": "code",
   "execution_count": 19,
   "metadata": {},
   "outputs": [
    {
     "name": "stdout",
     "output_type": "stream",
     "text": [
      "[1.62103433 0.         0.        ]\n",
      "[[1.30085389 0.33979014 0.79149775]]\n"
     ]
    }
   ],
   "source": [
    "print(Brain_Lasso.coef_)\n",
    "print(Brain_ridge.coef_)"
   ]
  },
  {
   "cell_type": "code",
   "execution_count": 20,
   "metadata": {},
   "outputs": [
    {
     "name": "stdout",
     "output_type": "stream",
     "text": [
      "Residual sum of squares : 2230.5170\n",
      "Residual sum of squares(ridge) : 156.3157\n"
     ]
    }
   ],
   "source": [
    "lasso_prediction=Brain_Lasso.predict(x_test)\n",
    "ridge_prediction=Brain_ridge.predict(x_test)\n",
    "print('Residual sum of squares : %.4f'%np.sum((lasso_prediction-y_test)**2))\n",
    "print('Residual sum of squares(ridge) : %.4f'%np.sum((ridge_prediction-y_test)**2))"
   ]
  },
  {
   "cell_type": "code",
   "execution_count": 21,
   "metadata": {},
   "outputs": [
    {
     "name": "stdout",
     "output_type": "stream",
     "text": [
      "-0.023572166374185022\n",
      "-3.5156884694141644\n"
     ]
    }
   ],
   "source": [
    "print(Brain_Lasso.score(x_test,y_test))\n",
    "print(Brain_ridge.score(x_test,y_test))"
   ]
  },
  {
   "cell_type": "markdown",
   "metadata": {},
   "source": [
    "## Ridge is = Linear regression RSS + lamda times L2norm of coefficients"
   ]
  },
  {
   "cell_type": "markdown",
   "metadata": {},
   "source": [
    "## Lasso is = Linear regression RSS + lamda times L1 norms of coefficients"
   ]
  },
  {
   "cell_type": "markdown",
   "metadata": {},
   "source": [
    "## Elastic net is = Linear regression RSS + lamda times L1 norms of coefficients +lamda times L1 norms of coefficients"
   ]
  },
  {
   "cell_type": "code",
   "execution_count": null,
   "metadata": {},
   "outputs": [],
   "source": []
  },
  {
   "cell_type": "code",
   "execution_count": null,
   "metadata": {},
   "outputs": [],
   "source": []
  },
  {
   "cell_type": "code",
   "execution_count": null,
   "metadata": {},
   "outputs": [],
   "source": []
  },
  {
   "cell_type": "code",
   "execution_count": null,
   "metadata": {},
   "outputs": [],
   "source": []
  },
  {
   "cell_type": "code",
   "execution_count": null,
   "metadata": {},
   "outputs": [],
   "source": []
  }
 ],
 "metadata": {
  "kernelspec": {
   "display_name": "Python 3",
   "language": "python",
   "name": "python3"
  },
  "language_info": {
   "codemirror_mode": {
    "name": "ipython",
    "version": 3
   },
   "file_extension": ".py",
   "mimetype": "text/x-python",
   "name": "python",
   "nbconvert_exporter": "python",
   "pygments_lexer": "ipython3",
   "version": "3.8.3"
  }
 },
 "nbformat": 4,
 "nbformat_minor": 4
}
