{
 "cells": [
  {
   "cell_type": "code",
   "execution_count": 9,
   "metadata": {},
   "outputs": [
    {
     "name": "stdout",
     "output_type": "stream",
     "text": [
      "0.0\n",
      "0.25\n",
      "0.5\n",
      "0.75\n",
      "1.0\n"
     ]
    }
   ],
   "source": [
    "import numpy as np\n",
    "from sklearn.metrics import hamming_loss\n",
    "a=np.array([[0.0,1.0],[1.0,1.0]])\n",
    "y1=np.array([[0.0,1.0],[1.0,1.0]])\n",
    "y2=np.array([[1.0,1.0],[1.0,1.0]])\n",
    "y3=np.array([[1.0,1.0],[0.0,1.0]])\n",
    "y4=np.array([[1.0,1.0],[0.0,0.0]])\n",
    "y5=np.array([[1.0,0.0],[0.0,0.0]])\n",
    "print(hamming_loss(a,y1))\n",
    "print(hamming_loss(a,y2))\n",
    "print(hamming_loss(a,y3))\n",
    "print(hamming_loss(a,y4))\n",
    "print(hamming_loss(a,y5))"
   ]
  },
  {
   "cell_type": "code",
   "execution_count": 10,
   "metadata": {},
   "outputs": [
    {
     "name": "stdout",
     "output_type": "stream",
     "text": [
      "1.0\n",
      "0.75\n",
      "0.5\n",
      "0.25\n",
      "0.0\n"
     ]
    }
   ],
   "source": [
    "from sklearn.metrics import jaccard_score\n",
    "a=np.array([[0.0,1.0],[1.0,1.0]])\n",
    "y1=np.array([[0.0,1.0],[1.0,1.0]])\n",
    "y2=np.array([[1.0,1.0],[1.0,1.0]])\n",
    "y3=np.array([[1.0,1.0],[0.0,1.0]])\n",
    "y4=np.array([[1.0,1.0],[0.0,0.0]])\n",
    "y5=np.array([[1.0,0.0],[0.0,0.0]])\n",
    "print(jaccard_score(a,y1,average='samples'))\n",
    "print(jaccard_score(a,y2,average='samples'))\n",
    "print(jaccard_score(a,y3,average='samples'))\n",
    "print(jaccard_score(a,y4,average='samples'))\n",
    "print(jaccard_score(a,y5,average='samples'))"
   ]
  }
 ],
 "metadata": {
  "kernelspec": {
   "display_name": "Python 3",
   "language": "python",
   "name": "python3"
  },
  "language_info": {
   "codemirror_mode": {
    "name": "ipython",
    "version": 3
   },
   "file_extension": ".py",
   "mimetype": "text/x-python",
   "name": "python",
   "nbconvert_exporter": "python",
   "pygments_lexer": "ipython3",
   "version": "3.8.3"
  }
 },
 "nbformat": 4,
 "nbformat_minor": 4
}
