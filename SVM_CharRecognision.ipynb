{
 "cells": [
  {
   "cell_type": "code",
   "execution_count": 1,
   "metadata": {},
   "outputs": [],
   "source": [
    "import os\n",
    "import numpy as np\n",
    "from sklearn.svm import SVC\n",
    "from sklearn.model_selection import train_test_split\n",
    "from sklearn.metrics import classification_report\n",
    "\n",
    "from PIL import Image\n",
    "import matplotlib.pyplot as plt"
   ]
  },
  {
   "cell_type": "code",
   "execution_count": 2,
   "metadata": {},
   "outputs": [],
   "source": [
    "def resize_and_crop(image,size):\n",
    "    #print(image.size)\n",
    "    img_ratio = image.size[0]/image.size[1]\n",
    "    #print(img_ratio)\n",
    "    #plt.imshow(image)\n",
    "    #plt.show()\n",
    "    ratio=size[0]/float(size[1])\n",
    "    if ratio > img_ratio:\n",
    "        #plt.imshow(image)\n",
    "        #plt.show()\n",
    "        image=image.resize((size[0],size[0]*int(image.size[1]/image.size[0])),Image.ANTIALIAS)\n",
    "        #plt.imshow(image)\n",
    "        #plt.show()\n",
    "        image=image.crop((0,0,30,30))\n",
    "    elif ratio<img_ratio:\n",
    "        image=image.resize((size[1]*int(image.size[0]/image.size[1]),size[1]),Image.ANTIALIAS)\n",
    "        image=image.crop((0,0,30,30))\n",
    "    else:\n",
    "        image=image.resize((size[0],size[1]),Image.ANTIALIAS)\n",
    "    return image"
   ]
  },
  {
   "cell_type": "code",
   "execution_count": 4,
   "metadata": {},
   "outputs": [
    {
     "name": "stdout",
     "output_type": "stream",
     "text": [
      "(7705, 900, 1)\n",
      "(7705, 900)\n"
     ]
    }
   ],
   "source": [
    "x=[]\n",
    "y=[]\n",
    "\n",
    "\n",
    "for path,subdirs,files in os.walk(\"E:\\\\English\\\\Img\\\\GoodImg\\\\Bmp\\\\\"):\n",
    "    #print(path)\n",
    "    #print(subdirs)\n",
    "    #print(files)\n",
    "    for filename in files:\n",
    "        f=os.path.join(path,filename)\n",
    "        img= Image.open(f).convert('L')\n",
    "        img_resized = resize_and_crop(img,(30,30))\n",
    "        img_resized=np.asarray(img_resized.getdata(),dtype=np.float64).reshape((img_resized.size[1]*img_resized.size[0],1))\n",
    "        #print(img_resized.shape)\n",
    "        x.append(img_resized)\n",
    "        #print(x)\n",
    "        target=filename[3:filename.index('-')]\n",
    "        y.append(target)\n",
    "x=np.array(x)\n",
    "print(x.shape)\n",
    "#print(x)\n",
    "x=x.reshape(x.shape[:2])\n",
    "print(x.shape)\n"
   ]
  },
  {
   "cell_type": "code",
   "execution_count": 5,
   "metadata": {},
   "outputs": [
    {
     "name": "stdout",
     "output_type": "stream",
     "text": [
      "              precision    recall  f1-score   support\n",
      "\n",
      "         001       0.11      0.12      0.12        24\n",
      "         002       0.45      0.45      0.45        20\n",
      "         003       0.27      0.15      0.19        20\n",
      "         004       0.60      0.50      0.55        12\n",
      "         005       0.29      0.40      0.33        15\n",
      "         006       0.26      0.43      0.32        14\n",
      "         007       0.29      0.15      0.20        13\n",
      "         008       0.80      0.50      0.62         8\n",
      "         009       0.09      0.20      0.12        10\n",
      "         010       0.13      0.29      0.18         7\n",
      "         011       0.58      0.84      0.68       127\n",
      "         012       0.44      0.34      0.39        35\n",
      "         013       0.50      0.57      0.53        49\n",
      "         014       0.49      0.43      0.46        46\n",
      "         015       0.64      0.74      0.69       110\n",
      "         016       0.21      0.31      0.25        16\n",
      "         017       0.42      0.32      0.36        31\n",
      "         018       0.72      0.51      0.60        55\n",
      "         019       0.56      0.61      0.58        85\n",
      "         020       0.30      0.26      0.28        23\n",
      "         021       0.33      0.52      0.41        23\n",
      "         022       0.73      0.62      0.67        52\n",
      "         023       0.82      0.50      0.62        36\n",
      "         024       0.72      0.74      0.73        85\n",
      "         025       0.47      0.58      0.52       105\n",
      "         026       0.73      0.44      0.55        50\n",
      "         027       0.00      0.00      0.00         8\n",
      "         028       0.65      0.67      0.66        99\n",
      "         029       0.46      0.49      0.47        70\n",
      "         030       0.92      0.76      0.84        80\n",
      "         031       0.12      0.18      0.15        22\n",
      "         032       0.44      0.24      0.31        29\n",
      "         033       0.55      0.43      0.48        14\n",
      "         034       0.12      0.06      0.08        16\n",
      "         035       0.22      0.17      0.19        12\n",
      "         036       0.30      0.27      0.29        11\n",
      "         037       0.62      0.44      0.51        48\n",
      "         038       0.50      0.29      0.36        14\n",
      "         039       0.24      0.22      0.23        23\n",
      "         040       0.38      0.30      0.33        10\n",
      "         041       0.69      0.58      0.63        64\n",
      "         042       0.00      0.00      0.00        11\n",
      "         043       0.19      0.20      0.19        15\n",
      "         044       0.39      0.47      0.42        15\n",
      "         045       0.38      0.40      0.39        30\n",
      "         046       0.00      0.00      0.00         7\n",
      "         047       0.40      0.40      0.40        10\n",
      "         048       0.24      0.19      0.21        21\n",
      "         049       0.43      0.38      0.40         8\n",
      "         050       0.54      0.42      0.47        36\n",
      "         051       0.10      0.06      0.07        34\n",
      "         052       0.00      0.00      0.00        10\n",
      "         053       0.00      0.00      0.00        11\n",
      "         054       0.27      0.35      0.31        26\n",
      "         055       0.33      0.24      0.28        29\n",
      "         056       0.57      0.43      0.49        28\n",
      "         057       0.09      0.25      0.13         8\n",
      "         058       0.25      0.22      0.24         9\n",
      "         059       0.20      0.33      0.25         6\n",
      "         060       0.00      0.00      0.00         8\n",
      "         061       0.40      0.57      0.47         7\n",
      "         062       0.09      0.14      0.11         7\n",
      "\n",
      "    accuracy                           0.49      1927\n",
      "   macro avg       0.37      0.35      0.35      1927\n",
      "weighted avg       0.50      0.49      0.49      1927\n",
      "\n"
     ]
    }
   ],
   "source": [
    "classifier = SVC(verbose=0,kernel='poly',degree=3)\n",
    "xtrain,xtest,ytrain,ytest=train_test_split(x,y,random_state=1)\n",
    "classifier.fit(xtrain,ytrain)\n",
    "predictions=classifier.predict(xtest)\n",
    "print(classification_report(ytest,predictions))"
   ]
  },
  {
   "cell_type": "code",
   "execution_count": null,
   "metadata": {},
   "outputs": [],
   "source": []
  }
 ],
 "metadata": {
  "kernelspec": {
   "display_name": "Python 3",
   "language": "python",
   "name": "python3"
  },
  "language_info": {
   "codemirror_mode": {
    "name": "ipython",
    "version": 3
   },
   "file_extension": ".py",
   "mimetype": "text/x-python",
   "name": "python",
   "nbconvert_exporter": "python",
   "pygments_lexer": "ipython3",
   "version": "3.8.3"
  }
 },
 "nbformat": 4,
 "nbformat_minor": 5
}
