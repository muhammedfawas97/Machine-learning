{
 "cells": [
  {
   "cell_type": "code",
   "execution_count": 3,
   "metadata": {},
   "outputs": [
    {
     "name": "stdout",
     "output_type": "stream",
     "text": [
      "[[6], [8], [10], [14], [18]]\n",
      "[[7], [9], [13], [17.5], [18]]\n"
     ]
    }
   ],
   "source": [
    "x=[[6],[8],[10],[14],[18]]\n",
    "y=[[7],[9],[13],[17.5],[18]]\n",
    "print(x)\n",
    "print(y)\n"
   ]
  },
  {
   "cell_type": "code",
   "execution_count": 4,
   "metadata": {},
   "outputs": [
    {
     "data": {
      "image/png": "[encoded data removed]",
      "text/plain": [
       "<Figure size 432x288 with 1 Axes>"
      ]
     },
     "metadata": {
      "needs_background": "light"
     },
     "output_type": "display_data"
    }
   ],
   "source": [
    "import matplotlib.pyplot as plt\n",
    "plt.figure()\n",
    "plt.title('Pizza price plotted vs Diameter')\n",
    "plt.plot(x, y, 'g')\n",
    "plt.xlabel('Diameter')\n",
    "plt.ylabel('Price in Dollars')\n",
    "plt.grid()\n",
    "plt.show()\n"
   ]
  },
  {
   "cell_type": "code",
   "execution_count": 5,
   "metadata": {},
   "outputs": [
    {
     "data": {
      "text/plain": [
       "LinearRegression()"
      ]
     },
     "execution_count": 5,
     "metadata": {},
     "output_type": "execute_result"
    }
   ],
   "source": [
    "from sklearn.linear_model import LinearRegression\n",
    "model=LinearRegression()\n",
    "model.fit(x,y)\n"
   ]
  },
  {
   "cell_type": "code",
   "execution_count": 6,
   "metadata": {},
   "outputs": [
    {
     "name": "stdout",
     "output_type": "stream",
     "text": [
      "[[11.72844828]]\n"
     ]
    }
   ],
   "source": [
    "print(model.predict([[10]]))"
   ]
  },
  {
   "cell_type": "code",
   "execution_count": 7,
   "metadata": {},
   "outputs": [
    {
     "name": "stdout",
     "output_type": "stream",
     "text": [
      "A 12\" pizza should cost :$13.6810\n"
     ]
    }
   ],
   "source": [
    "print('A 12\" pizza should cost :$%.4f' %model.predict([[12]]))"
   ]
  },
  {
   "cell_type": "code",
   "execution_count": 8,
   "metadata": {},
   "outputs": [
    {
     "name": "stdout",
     "output_type": "stream",
     "text": [
      "[ 0.          1.31578947  2.63157895  3.94736842  5.26315789  6.57894737\n",
      "  7.89473684  9.21052632 10.52631579 11.84210526 13.15789474 14.47368421\n",
      " 15.78947368 17.10526316 18.42105263 19.73684211 21.05263158 22.36842105\n",
      " 23.68421053 25.        ]\n",
      "20\n",
      "(20,)\n",
      "1\n",
      "[[ 0.        ]\n",
      " [ 1.31578947]\n",
      " [ 2.63157895]\n",
      " [ 3.94736842]\n",
      " [ 5.26315789]\n",
      " [ 6.57894737]\n",
      " [ 7.89473684]\n",
      " [ 9.21052632]\n",
      " [10.52631579]\n",
      " [11.84210526]\n",
      " [13.15789474]\n",
      " [14.47368421]\n",
      " [15.78947368]\n",
      " [17.10526316]\n",
      " [18.42105263]\n",
      " [19.73684211]\n",
      " [21.05263158]\n",
      " [22.36842105]\n",
      " [23.68421053]\n",
      " [25.        ]]\n"
     ]
    }
   ],
   "source": [
    "import numpy as np\n",
    "values=np.linspace(0,25,20)\n",
    "print(values)\n",
    "print(len(values))\n",
    "print(values.shape)\n",
    "print(values.ndim)\n",
    "val=values.reshape(20,1)\n",
    "print(val)\n"
   ]
  },
  {
   "cell_type": "code",
   "execution_count": 9,
   "metadata": {},
   "outputs": [
    {
     "name": "stdout",
     "output_type": "stream",
     "text": [
      "[[ 1.96551724]\n",
      " [ 3.25011343]\n",
      " [ 4.53470962]\n",
      " [ 5.81930581]\n",
      " [ 7.103902  ]\n",
      " [ 8.38849819]\n",
      " [ 9.67309437]\n",
      " [10.95769056]\n",
      " [12.24228675]\n",
      " [13.52688294]\n",
      " [14.81147913]\n",
      " [16.09607532]\n",
      " [17.38067151]\n",
      " [18.6652677 ]\n",
      " [19.94986388]\n",
      " [21.23446007]\n",
      " [22.51905626]\n",
      " [23.80365245]\n",
      " [25.08824864]\n",
      " [26.37284483]]\n"
     ]
    }
   ],
   "source": [
    "print(model.predict(val))"
   ]
  },
  {
   "cell_type": "code",
   "execution_count": 10,
   "metadata": {
    "scrolled": true
   },
   "outputs": [
    {
     "data": {
      "image/png": "[encoded data removed]",
      "text/plain": [
       "<Figure size 432x288 with 1 Axes>"
      ]
     },
     "metadata": {
      "needs_background": "light"
     },
     "output_type": "display_data"
    }
   ],
   "source": [
    "plt.plot(x,y,'g*')\n",
    "plt.plot(val,model.predict(val),color='red')\n",
    "plt.grid()"
   ]
  },
  {
   "cell_type": "markdown",
   "metadata": {},
   "source": [
    "Residual sum of squares"
   ]
  },
  {
   "cell_type": "code",
   "execution_count": 11,
   "metadata": {},
   "outputs": [
    {
     "name": "stdout",
     "output_type": "stream",
     "text": [
      "Residual sum of squares : 8.75\n"
     ]
    }
   ],
   "source": [
    "Error=np.sum((model.predict(x)-y)**2)\n",
    "print('Residual sum of squares : %.2f' %Error)"
   ]
  },
  {
   "cell_type": "code",
   "execution_count": 12,
   "metadata": {},
   "outputs": [
    {
     "name": "stdout",
     "output_type": "stream",
     "text": [
      "23.2\n"
     ]
    }
   ],
   "source": [
    "v=np.var(x,ddof=1)  ##'ddof = 1' delta degrees of freedom\n",
    "                    ##used for bessel correction\n",
    "print(v)"
   ]
  },
  {
   "cell_type": "code",
   "execution_count": 13,
   "metadata": {},
   "outputs": [
    {
     "name": "stdout",
     "output_type": "stream",
     "text": [
      "[[23.2  22.65]\n",
      " [22.65 24.3 ]]\n",
      "22.65\n"
     ]
    }
   ],
   "source": [
    "c=np.cov([6,8,10,14,18],[7,9,13,17.5,18])\n",
    "print(c)\n",
    "print(c[0][1])"
   ]
  },
  {
   "cell_type": "markdown",
   "metadata": {},
   "source": [
    "slope= covarience/varience"
   ]
  },
  {
   "cell_type": "code",
   "execution_count": 15,
   "metadata": {},
   "outputs": [
    {
     "name": "stdout",
     "output_type": "stream",
     "text": [
      "0.9762931034482758\n"
     ]
    }
   ],
   "source": [
    "slope=c[0][1]/v\n",
    "print(slope)"
   ]
  },
  {
   "cell_type": "code",
   "execution_count": 16,
   "metadata": {},
   "outputs": [
    {
     "name": "stdout",
     "output_type": "stream",
     "text": [
      "12.9\n",
      "11.2\n"
     ]
    }
   ],
   "source": [
    "ybar=np.mean(y)\n",
    "print(ybar)\n",
    "xbar=np.mean(x)\n",
    "print(xbar)"
   ]
  },
  {
   "cell_type": "markdown",
   "metadata": {},
   "source": [
    "c=ybar-(m*xbar)"
   ]
  },
  {
   "cell_type": "code",
   "execution_count": 21,
   "metadata": {},
   "outputs": [
    {
     "name": "stdout",
     "output_type": "stream",
     "text": [
      "1.9655172413793114\n"
     ]
    }
   ],
   "source": [
    "alpha=ybar-(slope*xbar)\n",
    "print(alpha)"
   ]
  },
  {
   "cell_type": "code",
   "execution_count": 22,
   "metadata": {},
   "outputs": [
    {
     "name": "stdout",
     "output_type": "stream",
     "text": [
      "11.72844827586207\n"
     ]
    }
   ],
   "source": [
    "y1=alpha+(slope*10)\n",
    "print(y1)"
   ]
  },
  {
   "cell_type": "code",
   "execution_count": 33,
   "metadata": {},
   "outputs": [],
   "source": [
    "import numpy as np\n",
    "x_test=[[9],[11],[16],[12]]\n",
    "y_test=[[8.5],[15],[18],[11]]\n"
   ]
  },
  {
   "cell_type": "code",
   "execution_count": 25,
   "metadata": {},
   "outputs": [
    {
     "name": "stdout",
     "output_type": "stream",
     "text": [
      "13.125\n"
     ]
    }
   ],
   "source": [
    "ybar=np.mean(y_test)\n",
    "print(ybar)"
   ]
  },
  {
   "cell_type": "code",
   "execution_count": 28,
   "metadata": {},
   "outputs": [
    {
     "data": {
      "text/plain": [
       "53.1875"
      ]
     },
     "execution_count": 28,
     "metadata": {},
     "output_type": "execute_result"
    }
   ],
   "source": [
    "SStot=np.sum((y_test-ybar)**2)\n",
    "SStot\n"
   ]
  },
  {
   "cell_type": "code",
   "execution_count": 34,
   "metadata": {},
   "outputs": [
    {
     "data": {
      "text/plain": [
       "17.699585686682525"
      ]
     },
     "execution_count": 34,
     "metadata": {},
     "output_type": "execute_result"
    }
   ],
   "source": [
    "SSres=np.sum((y_test-model.predict(x_test))**2)\n",
    "SSres"
   ]
  },
  {
   "cell_type": "code",
   "execution_count": 37,
   "metadata": {},
   "outputs": [
    {
     "name": "stdout",
     "output_type": "stream",
     "text": [
      "Residual value : 0.6672\n"
     ]
    }
   ],
   "source": [
    "R2=(SStot-SSres)/SStot\n",
    "print('Residual value : %.4f' %R2)"
   ]
  },
  {
   "cell_type": "code",
   "execution_count": 39,
   "metadata": {},
   "outputs": [
    {
     "name": "stdout",
     "output_type": "stream",
     "text": [
      "Rsquared= 0.6672\n"
     ]
    }
   ],
   "source": [
    "print(\"Rsquared= %.4f\" %model.score(x_test,y_test))"
   ]
  },
  {
   "cell_type": "markdown",
   "metadata": {},
   "source": []
  },
  {
   "cell_type": "markdown",
   "metadata": {},
   "source": [
    "## Pizza dataset with two explanatory variable:\n",
    "## Y=ax1+bX2+c\n"
   ]
  },
  {
   "cell_type": "code",
   "execution_count": 40,
   "metadata": {},
   "outputs": [
    {
     "data": {
      "text/plain": [
       "LinearRegression()"
      ]
     },
     "execution_count": 40,
     "metadata": {},
     "output_type": "execute_result"
    }
   ],
   "source": [
    "x=[[6,2],[8,1],[10,0],[14,2],[18,0]]\n",
    "y=[[7],[9],[13],[17.5],[18]]\n",
    "from sklearn.linear_model import LinearRegression\n",
    "model=LinearRegression()\n",
    "model.fit(x,y)\n"
   ]
  },
  {
   "cell_type": "code",
   "execution_count": 41,
   "metadata": {},
   "outputs": [
    {
     "name": "stdout",
     "output_type": "stream",
     "text": [
      "[[10.0625    ]\n",
      " [10.28125   ]\n",
      " [13.09375   ]\n",
      " [18.14583333]\n",
      " [13.3125    ]]\n"
     ]
    }
   ],
   "source": [
    "x_test=[[8,2],[9,0],[11,2],[16,2],[12,0]]\n",
    "y_test=[[11],[8.5],[15],[18],[11]]\n",
    "pred=model.predict(x_test)\n",
    "print(pred)"
   ]
  },
  {
   "cell_type": "code",
   "execution_count": 51,
   "metadata": {},
   "outputs": [
    {
     "name": "stdout",
     "output_type": "stream",
     "text": [
      "predicted :10.063 , Trget : 11\n",
      "predicted :10.281 , Trget : 8.5\n",
      "predicted :13.094 , Trget : 15\n",
      "predicted :18.146 , Trget : 18\n",
      "predicted :13.312 , Trget : 11\n"
     ]
    }
   ],
   "source": [
    "for i ,predicted in enumerate(pred):##enumerate used to print index and its value\n",
    "    print('predicted :%.3f , Trget : %s'%(predicted[0],y_test[i][0]))"
   ]
  },
  {
   "cell_type": "code",
   "execution_count": 46,
   "metadata": {},
   "outputs": [
    {
     "name": "stdout",
     "output_type": "stream",
     "text": [
      "Rsrr : 0.77\n"
     ]
    }
   ],
   "source": [
    "print('Rsrr : %.2f'%model.score(x_test,y_test)) ##rsquare value means model performance"
   ]
  },
  {
   "cell_type": "code",
   "execution_count": 5,
   "metadata": {},
   "outputs": [
    {
     "ename": "TypeError",
     "evalue": "unsupported operand type(s) for /: 'list' and 'list'",
     "output_type": "error",
     "traceback": [
      "\u001b[1;31m---------------------------------------------------------------------------\u001b[0m",
      "\u001b[1;31mTypeError\u001b[0m                                 Traceback (most recent call last)",
      "\u001b[1;32m<ipython-input-5-773cbd0c2ef2>\u001b[0m in \u001b[0;36m<module>\u001b[1;34m\u001b[0m\n\u001b[1;32m----> 1\u001b[1;33m \u001b[0mBeta\u001b[0m\u001b[1;33m=\u001b[0m\u001b[0mY\u001b[0m\u001b[1;33m/\u001b[0m\u001b[0mX\u001b[0m\u001b[1;33m\u001b[0m\u001b[1;33m\u001b[0m\u001b[0m\n\u001b[0m\u001b[0;32m      2\u001b[0m \u001b[0mBeta\u001b[0m\u001b[1;33m=\u001b[0m\u001b[0mY\u001b[0m\u001b[1;33m.\u001b[0m\u001b[0mXt\u001b[0m\u001b[1;33m/\u001b[0m\u001b[0mX\u001b[0m\u001b[1;33m.\u001b[0m\u001b[0mXt\u001b[0m\u001b[1;33m\u001b[0m\u001b[1;33m\u001b[0m\u001b[0m\n\u001b[0;32m      3\u001b[0m \u001b[0mBeta\u001b[0m\u001b[1;33m=\u001b[0m\u001b[0mY\u001b[0m\u001b[1;33m.\u001b[0m\u001b[0mXt\u001b[0m\u001b[1;33m(\u001b[0m\u001b[0mX\u001b[0m\u001b[1;33m.\u001b[0m\u001b[0mXt\u001b[0m\u001b[1;33m)\u001b[0m\u001b[1;33m-\u001b[0m\u001b[1;36m1\u001b[0m\u001b[1;33m\u001b[0m\u001b[1;33m\u001b[0m\u001b[0m\n",
      "\u001b[1;31mTypeError\u001b[0m: unsupported operand type(s) for /: 'list' and 'list'"
     ]
    }
   ],
   "source": [
    "Beta=Y/X\n",
    "Beta=Y.Xt/X.Xt\n",
    "Beta=Y.Xt(X.Xt)-1"
   ]
  },
  {
   "cell_type": "code",
   "execution_count": 6,
   "metadata": {},
   "outputs": [
    {
     "name": "stdout",
     "output_type": "stream",
     "text": [
      "[[813.]\n",
      " [ 58.]]\n",
      "[[ 0.00215517 -0.01149425]\n",
      " [-0.01149425  0.17241379]]\n",
      "[[1.08548851]\n",
      " [0.65517241]]\n"
     ]
    }
   ],
   "source": [
    "from numpy import dot , transpose\n",
    "from numpy.linalg import inv\n",
    "X=[[6,2],[8,1],[10,0],[14,2],[18,0]]\n",
    "Y=[[7],[9],[13],[17.5],[18]]\n",
    "A=dot(transpose(X),Y)\n",
    "B=inv(dot(transpose(X),X))\n",
    "print(A)\n",
    "print(B)\n",
    "print(dot(B,A))"
   ]
  },
  {
   "cell_type": "code",
   "execution_count": 8,
   "metadata": {},
   "outputs": [
    {
     "name": "stdout",
     "output_type": "stream",
     "text": [
      "[[1.08548851]\n",
      " [0.65517241]]\n"
     ]
    },
    {
     "name": "stderr",
     "output_type": "stream",
     "text": [
      "<ipython-input-8-7d754381f7d0>:2: FutureWarning: `rcond` parameter will change to the default of machine precision times ``max(M, N)`` where M and N are the input matrix dimensions.\n",
      "To use the future default and silence this warning we advise to pass `rcond=None`, to keep using the old, explicitly pass `rcond=-1`.\n",
      "  print(lstsq(X,Y)[0])\n"
     ]
    }
   ],
   "source": [
    "from numpy.linalg import lstsq ## to find slope\n",
    "print(lstsq(X,Y)[0])"
   ]
  }
 ],
 "metadata": {
  "kernelspec": {
   "display_name": "Python 3",
   "language": "python",
   "name": "python3"
  },
  "language_info": {
   "codemirror_mode": {
    "name": "ipython",
    "version": 3
   },
   "file_extension": ".py",
   "mimetype": "text/x-python",
   "name": "python",
   "nbconvert_exporter": "python",
   "pygments_lexer": "ipython3",
   "version": "3.8.3"
  }
 },
 "nbformat": 4,
 "nbformat_minor": 4
}
