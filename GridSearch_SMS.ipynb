{
 "cells": [
  {
   "cell_type": "code",
   "execution_count": 29,
   "metadata": {},
   "outputs": [],
   "source": [
    "import pandas as pd \n",
    "import numpy as np\n",
    "import matplotlib.pyplot as plt\n",
    "from sklearn.feature_extraction.text import TfidfVectorizer\n",
    "from sklearn.linear_model.logistic import LogisticRegression\n",
    "from sklearn.model_selection import GridSearchCV\n",
    "from sklearn.pipeline import Pipeline\n",
    "from sklearn.model_selection import train_test_split\n",
    "from sklearn.metrics import precision_score,recall_score,accuracy_score,f1_score\n",
    "from sklearn.preprocessing import LabelBinarizer\n",
    "lb=LabelBinarizer()\n",
    "pipeline=Pipeline([('vect',TfidfVectorizer(stop_words=\"english\")),('clf',LogisticRegression())])"
   ]
  },
  {
   "cell_type": "code",
   "execution_count": 30,
   "metadata": {},
   "outputs": [],
   "source": [
    "parameters={'vect__max_df':(0.25,0.5,0.75),\n",
    "            'vect__stop_words':('english',None),\n",
    "            'vect__max_features':(2500,5000,1000,None),\n",
    "            'vect__ngram_range':((1,1),(1,2)),'vect__use_idf':(True,False),\n",
    "            'vect__norm':('l1','l2'),\n",
    "            'clf__penalty':('l1','l2'),\n",
    "            'clf__C':(0.01,0.1,1,10)}"
   ]
  },
  {
   "cell_type": "code",
   "execution_count": 31,
   "metadata": {},
   "outputs": [],
   "source": [
    "grid_search=GridSearchCV(pipeline,parameters,n_jobs=-1,verbose=-1,\n",
    "                        scoring='accuracy',cv=3)"
   ]
  },
  {
   "cell_type": "code",
   "execution_count": 32,
   "metadata": {},
   "outputs": [
    {
     "name": "stdout",
     "output_type": "stream",
     "text": [
      "[[0]\n",
      " [1]\n",
      " [0]\n",
      " ...\n",
      " [1]\n",
      " [0]\n",
      " [0]]\n",
      "[[1]\n",
      " [0]\n",
      " [0]\n",
      " ...\n",
      " [0]\n",
      " [0]\n",
      " [1]]\n"
     ]
    }
   ],
   "source": [
    "df=pd.read_csv('C:\\\\Users\\\\Dell\\\\Downloads\\\\smsspamcollection\\\\SMSSpamCollection.csv',delimiter='\\t',header=None)\n",
    "X,y=df.iloc[:,1],df.iloc[:,0]\n",
    "x_train,x_test,y_train,y_test=train_test_split(X,y)\n",
    "y_train=lb.fit_transform(y_train)\n",
    "y_test=lb.transform(y_test)\n",
    "print(y_train)\n",
    "print(y_test)\n"
   ]
  },
  {
   "cell_type": "code",
   "execution_count": 33,
   "metadata": {},
   "outputs": [
    {
     "name": "stderr",
     "output_type": "stream",
     "text": [
      "[Parallel(n_jobs=-1)]: Using backend LokyBackend with 4 concurrent workers.\n",
      "[Parallel(n_jobs=-1)]: Done  64 tasks      | elapsed:    9.2s\n",
      "[Parallel(n_jobs=-1)]: Done 280 tasks      | elapsed:   26.6s\n",
      "[Parallel(n_jobs=-1)]: Done 640 tasks      | elapsed:   58.4s\n",
      "[Parallel(n_jobs=-1)]: Done 1144 tasks      | elapsed:  2.0min\n",
      "[Parallel(n_jobs=-1)]: Done 1792 tasks      | elapsed:  2.9min\n",
      "[Parallel(n_jobs=-1)]: Done 2584 tasks      | elapsed:  4.5min\n",
      "[Parallel(n_jobs=-1)]: Done 3520 tasks      | elapsed:  6.3min\n",
      "[Parallel(n_jobs=-1)]: Done 4600 tasks      | elapsed:  8.7min\n",
      "[Parallel(n_jobs=-1)]: Done 4608 out of 4608 | elapsed:  8.7min finished\n",
      "C:\\Users\\Dell\\anaconda3\\lib\\site-packages\\sklearn\\utils\\validation.py:73: DataConversionWarning: A column-vector y was passed when a 1d array was expected. Please change the shape of y to (n_samples, ), for example using ravel().\n",
      "  return f(**kwargs)\n"
     ]
    },
    {
     "data": {
      "text/plain": [
       "GridSearchCV(cv=3,\n",
       "             estimator=Pipeline(steps=[('vect',\n",
       "                                        TfidfVectorizer(stop_words='english')),\n",
       "                                       ('clf', LogisticRegression())]),\n",
       "             n_jobs=-1,\n",
       "             param_grid={'clf__C': (0.01, 0.1, 1, 10),\n",
       "                         'clf__penalty': ('l1', 'l2'),\n",
       "                         'vect__max_df': (0.25, 0.5, 0.75),\n",
       "                         'vect__max_features': (2500, 5000, 1000, None),\n",
       "                         'vect__ngram_range': ((1, 1), (1, 2)),\n",
       "                         'vect__norm': ('l1', 'l2'),\n",
       "                         'vect__stop_words': ('english', None),\n",
       "                         'vect__use_idf': (True, False)},\n",
       "             scoring='accuracy', verbose=-1)"
      ]
     },
     "execution_count": 33,
     "metadata": {},
     "output_type": "execute_result"
    }
   ],
   "source": [
    "grid_search.fit(x_train,y_train)"
   ]
  },
  {
   "cell_type": "code",
   "execution_count": 35,
   "metadata": {},
   "outputs": [
    {
     "name": "stdout",
     "output_type": "stream",
     "text": [
      "Best score: 0.982\n"
     ]
    }
   ],
   "source": [
    "print(\"Best score: %0.3f\"%grid_search.best_score_)"
   ]
  },
  {
   "cell_type": "code",
   "execution_count": 37,
   "metadata": {},
   "outputs": [
    {
     "name": "stdout",
     "output_type": "stream",
     "text": [
      "Best parameter set :\n",
      "\t'clf__C' : 10\n",
      "\t'clf__penalty' : 'l2'\n",
      "\t'vect__max_df' : 0.25\n",
      "\t'vect__max_features' : 5000\n",
      "\t'vect__ngram_range' : (1, 2)\n",
      "\t'vect__norm' : 'l2'\n",
      "\t'vect__stop_words' : None\n",
      "\t'vect__use_idf' : False\n"
     ]
    }
   ],
   "source": [
    "print(\"Best parameter set :\")\n",
    "best_parameters=grid_search.best_estimator_.get_params()\n",
    "#print(best_parameters)\n",
    "for param_name in sorted(parameters.keys()):\n",
    "    print('\\t%r : %r'%(param_name,best_parameters[param_name]))"
   ]
  },
  {
   "cell_type": "code",
   "execution_count": 42,
   "metadata": {},
   "outputs": [
    {
     "name": "stdout",
     "output_type": "stream",
     "text": [
      "Accuracy 0.9885139985642498\n",
      "Precision 0.9940119760479041\n",
      "Recall 0.9171270718232044\n",
      "F1 Score 0.9540229885057472\n"
     ]
    }
   ],
   "source": [
    "predictions=grid_search.predict(x_test)\n",
    "print('Accuracy',accuracy_score(y_test,predictions))\n",
    "print('Precision',precision_score(y_test,predictions))\n",
    "print('Recall',recall_score(y_test,predictions))\n",
    "print('F1 Score',f1_score(y_test,predictions))"
   ]
  }
 ],
 "metadata": {
  "kernelspec": {
   "display_name": "Python 3",
   "language": "python",
   "name": "python3"
  },
  "language_info": {
   "codemirror_mode": {
    "name": "ipython",
    "version": 3
   },
   "file_extension": ".py",
   "mimetype": "text/x-python",
   "name": "python",
   "nbconvert_exporter": "python",
   "pygments_lexer": "ipython3",
   "version": "3.8.3"
  }
 },
 "nbformat": 4,
 "nbformat_minor": 2
}
